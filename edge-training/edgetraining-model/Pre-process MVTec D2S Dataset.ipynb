{
 "cells": [
  {
   "cell_type": "code",
   "execution_count": 1,
   "metadata": {},
   "outputs": [],
   "source": [
    "import torch\n",
    "from torchvision import datasets, models, transforms\n",
    "import os\n",
    "import json\n",
    "import shutil"
   ]
  },
  {
   "cell_type": "code",
   "execution_count": 2,
   "metadata": {},
   "outputs": [],
   "source": [
    "# Constants referred by PyTorch's documentation: https://pytorch.org/docs/stable/torchvision/models.html#id3\n",
    "mean = [0.485, 0.456, 0.406]\n",
    "std = [0.229, 0.224, 0.225]"
   ]
  },
  {
   "cell_type": "code",
   "execution_count": 3,
   "metadata": {},
   "outputs": [],
   "source": [
    "data_dir = \"/home/mahesh/workspace/source/iotedge/data/D2S\"\n",
    "annotations_dir = os.path.join(data_dir, \"/home/mahesh/workspace/source/iotedge/data/D2S/annotations\")\n",
    "images_dir = os.path.join(data_dir, \"images\")\n",
    "train_dir = os.path.join(data_dir, 'train')\n",
    "test_dir = os.path.join(data_dir, 'val')"
   ]
  },
  {
   "cell_type": "markdown",
   "metadata": {},
   "source": [
    "### Extract training images"
   ]
  },
  {
   "cell_type": "code",
   "execution_count": 10,
   "metadata": {},
   "outputs": [],
   "source": [
    "with open(os.path.join(annotations_dir, \"D2S_training.json\")) as file:\n",
    "    annotations = json.load(file)"
   ]
  },
  {
   "cell_type": "code",
   "execution_count": 11,
   "metadata": {},
   "outputs": [
    {
     "name": "stdout",
     "output_type": "stream",
     "text": [
      "dict_keys(['images', 'info', 'licenses', 'annotations', 'categories'])\n"
     ]
    }
   ],
   "source": [
    "print(annotations.keys())"
   ]
  },
  {
   "cell_type": "code",
   "execution_count": 12,
   "metadata": {},
   "outputs": [],
   "source": [
    "notes = annotations[\"images\"]"
   ]
  },
  {
   "cell_type": "code",
   "execution_count": 13,
   "metadata": {},
   "outputs": [
    {
     "name": "stdout",
     "output_type": "stream",
     "text": [
      "4380\n"
     ]
    },
    {
     "data": {
      "text/plain": [
       "{'file_name': 'D2S_000200.jpg',\n",
       " 'height': 1440,\n",
       " 'id': 200,\n",
       " 'license': 1,\n",
       " 'width': 1920}"
      ]
     },
     "execution_count": 13,
     "metadata": {},
     "output_type": "execute_result"
    }
   ],
   "source": [
    "print(len(notes))\n",
    "notes[0]"
   ]
  },
  {
   "cell_type": "code",
   "execution_count": 4,
   "metadata": {},
   "outputs": [],
   "source": [
    "def transfer_files(notes_dict, source_dir, target_dir):\n",
    "    images = os.listdir(source_dir)\n",
    "    images = [file for file in images if file[-3:].lower() == \"jpg\"]\n",
    "    for note in notes_dict:\n",
    "        file_name = note['file_name']\n",
    "        if file_name in images:\n",
    "            source = os.path.join(source_dir, file_name)\n",
    "            dest = os.path.join(target_dir, file_name)\n",
    "            shutil.move(source, dest)\n",
    " "
   ]
  },
  {
   "cell_type": "code",
   "execution_count": 15,
   "metadata": {},
   "outputs": [],
   "source": [
    "transfer_files(notes, images_dir, train_dir)"
   ]
  },
  {
   "cell_type": "markdown",
   "metadata": {},
   "source": [
    "### Extract validation images"
   ]
  },
  {
   "cell_type": "code",
   "execution_count": 5,
   "metadata": {},
   "outputs": [
    {
     "name": "stdout",
     "output_type": "stream",
     "text": [
      "3600\n"
     ]
    },
    {
     "data": {
      "text/plain": [
       "{'file_name': 'D2S_000800.jpg',\n",
       " 'height': 1440,\n",
       " 'id': 800,\n",
       " 'license': 1,\n",
       " 'width': 1920}"
      ]
     },
     "execution_count": 5,
     "metadata": {},
     "output_type": "execute_result"
    }
   ],
   "source": [
    "with open(os.path.join(annotations_dir, \"D2S_validation.json\")) as file:\n",
    "    annotations = json.load(file)\n",
    "notes = annotations[\"images\"]\n",
    "print(len(notes))\n",
    "notes[0]"
   ]
  },
  {
   "cell_type": "code",
   "execution_count": 6,
   "metadata": {},
   "outputs": [],
   "source": [
    "transfer_files(notes, images_dir, test_dir)"
   ]
  },
  {
   "cell_type": "code",
   "execution_count": null,
   "metadata": {},
   "outputs": [],
   "source": []
  }
 ],
 "metadata": {
  "kernelspec": {
   "display_name": "IoT Edge Env",
   "language": "python",
   "name": "iotedgeenv"
  },
  "language_info": {
   "codemirror_mode": {
    "name": "ipython",
    "version": 3
   },
   "file_extension": ".py",
   "mimetype": "text/x-python",
   "name": "python",
   "nbconvert_exporter": "python",
   "pygments_lexer": "ipython3",
   "version": "3.7.7"
  }
 },
 "nbformat": 4,
 "nbformat_minor": 4
}
